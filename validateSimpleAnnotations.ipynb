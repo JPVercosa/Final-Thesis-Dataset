{
 "cells": [
  {
   "cell_type": "code",
   "execution_count": 2,
   "metadata": {},
   "outputs": [],
   "source": [
    "import json"
   ]
  },
  {
   "cell_type": "code",
   "execution_count": 3,
   "metadata": {},
   "outputs": [
    {
     "name": "stdout",
     "output_type": "stream",
     "text": [
      "275\n",
      "657\n"
     ]
    }
   ],
   "source": [
    "old = open('./simple_dataset/annotations.json', 'r')\n",
    "new = open('./simple_dataset/new_annotations.json', 'r')\n",
    "old_json = json.load(old)\n",
    "new_json = json.load(new)\n",
    "old_json_keys = old_json.keys()\n",
    "new_json_keys = new_json.keys()\n",
    "\n",
    "print(len(old_json_keys))\n",
    "print(len(new_json_keys))\n",
    "\n",
    "def compare_keys(old_json_keys, new_json_keys):\n",
    "    for key in old_json_keys:\n",
    "        if key not in new_json_keys:\n",
    "            print(key)\n",
    "            print('\\n')\n",
    "\n",
    "def check_number_of_annotations(old_json, new_json):\n",
    "    for key in old_json_keys:\n",
    "        if len(old_json[key]) != len(new_json[key]):\n",
    "            print(key)\n",
    "            print('\\n')\n",
    "\n",
    "\n",
    "\n",
    "compare_keys(old_json_keys, new_json_keys)\n",
    "check_number_of_annotations(old_json, new_json)\n"
   ]
  }
 ],
 "metadata": {
  "kernelspec": {
   "display_name": "Python 3.8.11 ('jupyter-env')",
   "language": "python",
   "name": "python3"
  },
  "language_info": {
   "codemirror_mode": {
    "name": "ipython",
    "version": 3
   },
   "file_extension": ".py",
   "mimetype": "text/x-python",
   "name": "python",
   "nbconvert_exporter": "python",
   "pygments_lexer": "ipython3",
   "version": "3.8.11"
  },
  "orig_nbformat": 4,
  "vscode": {
   "interpreter": {
    "hash": "ebb88e22247ffa6e3b2646081d564af670513b823040578ca623de7a156dddd5"
   }
  }
 },
 "nbformat": 4,
 "nbformat_minor": 2
}
