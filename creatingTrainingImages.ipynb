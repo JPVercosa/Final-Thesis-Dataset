{
 "cells": [
  {
   "cell_type": "code",
   "execution_count": 5,
   "id": "896ee4b5",
   "metadata": {},
   "outputs": [],
   "source": [
    "%matplotlib inline\n",
    "import numpy as np\n",
    "import cv2\n",
    "import matplotlib as mpl\n",
    "from matplotlib import pyplot as plt\n",
    "import os"
   ]
  },
  {
   "cell_type": "code",
   "execution_count": 6,
   "id": "fbfd59b6",
   "metadata": {},
   "outputs": [],
   "source": [
    "#Loading Variables\n",
    "#orange_signs_list = os.listdir('./Img/RawOrangeSignImgs/')\n",
    "#coco_imgs_list = os.listdir('./coco_dataset/images/chosenImages')\n",
    "orange_signs_list = ['R-2_000.png']\n",
    "coco_imgs_list = ['000000000025.jpg']\n",
    "\n"
   ]
  },
  {
   "cell_type": "code",
   "execution_count": 9,
   "id": "fadf6087",
   "metadata": {},
   "outputs": [],
   "source": [
    "def applyErosion(mask):\n",
    "    kernel = np.ones((5,5), np.uint8)\n",
    "    mask = cv2.erode(mask, kernel, iterations=1)\n",
    "    return mask\n",
    "\n",
    "def createTemplate(orange_signs_list):\n",
    "    templates_dict = {}\n",
    "    for name in orange_signs_list:\n",
    "        name = name[:-4:] # remove .png\n",
    "        sign_type = name[:-4:] # select the sign type\n",
    "        sign_number = name[-4::] # select the number of this sign type\n",
    "        img = cv2.imread(f'./Img/RawOrangeSignImgs/{sign_type + sign_number}.png')\n",
    "        #cv2.imshow(\"Img\", img)\n",
    "        #print('Img Shape:', img.shape)     \n",
    "\n",
    "        hsv_img = cv2.cvtColor(img, cv2.COLOR_BGR2HSV) \n",
    "        # print(\"HSV Img Shape: \", hsv_img.shape)\n",
    "\n",
    "        lower_limit = np.array([12, 255, 255]) #Background HSV Color to create mask\n",
    "        upper_limit = np.array([12, 255, 255]) #Background HSV Color to create mask\n",
    "\n",
    "        mask = cv2.inRange(hsv_img, lower_limit, upper_limit)\n",
    "        mask_inv = cv2.bitwise_not(mask)\n",
    "        mask_inv = applyErosion(mask_inv) #Erode the mask to remove noise\n",
    "        #print(\"Mask-Inv Shape:\" + mask_inv.shape)  #should be (h, w, 3)\n",
    "\n",
    "        contours, hierarchy = cv2.findContours(mask_inv, cv2.RETR_EXTERNAL, cv2.CHAIN_APPROX_SIMPLE)\n",
    "        #print(np.asarray(contours).shape) # (1, 86, 1, 2) - 1 array, com 86 listas, cada lista com 1 sublistas com 2 elementos.\n",
    "        valid_contours = []\n",
    "\n",
    "        #Retira ruídos e monta o contorno principal\n",
    "        for c in contours:\n",
    "            area = cv2.contourArea(c)\n",
    "            if area < 600:\n",
    "                continue\n",
    "            \n",
    "            valid_contours.append(c)\n",
    "\n",
    "        #Une a máscara invertida sobre a imagem principal para destacar a placa \n",
    "        sign = cv2.bitwise_and(img, img, mask= mask_inv)\n",
    "        sign_rgba = cv2.cvtColor(sign, cv2.COLOR_BGR2BGRA)  #Convert to RGBA\n",
    "        sign_rgba[:,:,3] = mask_inv\n",
    "        # print(img_sign.shape) #(287, 124, 3)\n",
    "        # cv2.imshow('Sign', sign_rgba)\n",
    "        # cv2.waitKey(0)\n",
    "\n",
    "        if not templates_dict.get(sign_type):\n",
    "            templates_dict[sign_type] = [(sign_number, sign_rgba)]\n",
    "        else:\n",
    "            templates_dict[sign_type].append((sign_number, sign_rgba))\n",
    "\n",
    "    return templates_dict\n",
    "        \n",
    "templates_dict = createTemplate(orange_signs_list)"
   ]
  },
  {
   "cell_type": "code",
   "execution_count": 10,
   "id": "e9ebc380",
   "metadata": {},
   "outputs": [],
   "source": [
    "def createSampleImages(templates_dict, coco_imgs_list):\n",
    "    img_list = []\n",
    "    for name in coco_imgs_list:\n",
    "        name = name[:-4:] # remove .jpg\n",
    "        coco_img = cv2.imread(f'./coco_dataset/images/chosenImages/{name}.jpg')\n",
    "        if(coco_img.shape[0] > coco_img.shape[1]):    #Eliminate images with height greater than width (portraits)   \n",
    "            continue\n",
    "        #print(coco_img.shape)\n",
    "\n",
    "        coco_img = cv2.resize(coco_img, (1366, 768), interpolation = cv2.INTER_LINEAR)\n",
    "        #coco_img = cv2.cvtColor(coco_img, cv2.COLOR_BGR2HSV)\n",
    "        \n",
    "        x_offset=y_offset=50     #Change these to change the position of the sign\n",
    "\n",
    "        for sign_type in templates_dict:\n",
    "            for i, template_tuple in enumerate(templates_dict[sign_type]):\n",
    "                sign_number = template_tuple[0] \n",
    "                template = template_tuple[1]\n",
    "                #print(template.shape)\n",
    "                \n",
    "                #Using the offset to drag the image down and to the left    \n",
    "                y1, y2 = y_offset, y_offset + template.shape[0]\n",
    "                x1, x2 = x_offset, x_offset + template.shape[1]\n",
    "\n",
    "                alpha_s = template[:, :, 3] / 255.0\n",
    "                alpha_l = 1.0 - alpha_s\n",
    "                for c in range(0, 3):\n",
    "                    coco_img[y1:y2, x1:x2, c] = (alpha_s * template[:, :, c] +\n",
    "                                            alpha_l * coco_img[y1:y2, x1:x2, c])\n",
    "                                \n",
    "        img_list.append(coco_img)\n",
    "        \n",
    "\n",
    "    cv2.imshow('Img', img_list[0])\n",
    "    cv2.waitKey(0)\n",
    "\n",
    "createSampleImages(templates_dict, coco_imgs_list)"
   ]
  },
  {
   "cell_type": "code",
   "execution_count": null,
   "id": "9b60ebf2",
   "metadata": {},
   "outputs": [],
   "source": [
    "array = [array([[[  5,   4]], [[  6,   5]], [[  6,   6]],[[  8,   8]]], dtype=int32)]\n"
   ]
  },
  {
   "cell_type": "code",
   "execution_count": null,
   "id": "5fee70f9",
   "metadata": {},
   "outputs": [],
   "source": [
    "\n",
    "\n"
   ]
  },
  {
   "cell_type": "code",
   "execution_count": null,
   "id": "4f65bf33",
   "metadata": {},
   "outputs": [],
   "source": [
    "\n"
   ]
  },
  {
   "cell_type": "code",
   "execution_count": null,
   "id": "96b2ae59",
   "metadata": {},
   "outputs": [],
   "source": [
    "\n"
   ]
  },
  {
   "cell_type": "code",
   "execution_count": null,
   "id": "d4c9eda5",
   "metadata": {},
   "outputs": [],
   "source": []
  }
 ],
 "metadata": {
  "interpreter": {
   "hash": "ebb88e22247ffa6e3b2646081d564af670513b823040578ca623de7a156dddd5"
  },
  "kernelspec": {
   "display_name": "Python 3.8.11 ('jupyter-env')",
   "language": "python",
   "name": "python3"
  },
  "language_info": {
   "codemirror_mode": {
    "name": "ipython",
    "version": 3
   },
   "file_extension": ".py",
   "mimetype": "text/x-python",
   "name": "python",
   "nbconvert_exporter": "python",
   "pygments_lexer": "ipython3",
   "version": "3.8.11"
  }
 },
 "nbformat": 4,
 "nbformat_minor": 5
}
